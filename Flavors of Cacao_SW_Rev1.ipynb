{
 "cells": [
  {
   "cell_type": "code",
   "execution_count": 3,
   "metadata": {},
   "outputs": [],
   "source": [
    "import numpy as np\n",
    "import pandas as pd\n",
    "import matplotlib.pyplot as plt\n",
    "%matplotlib inline\n",
    "import seaborn as sns\n",
    "from sklearn.linear_model import LinearRegression\n",
    "from sklearn.model_selection import train_test_split\n",
    "from sklearn.metrics import r2_score, mean_squared_error\n",
    "from sklearn.ensemble import RandomForestRegressor\n",
    "import plotly.io as pio\n",
    "import plotly.graph_objects as go\n",
    "from plotly.offline import download_plotlyjs, init_notebook_mode, plot, iplot\n",
    "from sklearn.ensemble import RandomForestRegressor\n",
    "from sklearn.datasets import make_classification"
   ]
  },
  {
   "cell_type": "markdown",
   "metadata": {},
   "source": [
    "# 1) Business Understanding\n",
    "\n",
    "As a self-diagnosed chocoholic and general fan of chocolate of all kinds, finding this dataset and drawing conclusions from it is a joy for me. \n",
    "\n",
    "The dataset gathered includes ratings from experts of 1,795 chocolate bars.  I am interested in extracting the following questions from the dataset:\n",
    "\n",
    "_1) Is there a relationship between highly rated chocolate and its cacao bean source? eg. Where are the best beans from?_\n",
    "\n",
    "_2) Does cacao percent in a chocolate bar equate to higher ratings?_\n",
    "\n",
    "_3) Is company location correlated with ratings?_\n",
    "\n",
    "_4) What is the world's best chocolate bar?_\n",
    "\n",
    "_5) What is the linear model for this data, with Rating as the output (y)?_"
   ]
  },
  {
   "cell_type": "markdown",
   "metadata": {},
   "source": [
    "**GATHER** Gathering 'Flavors of Cacao' Kaggle Dataset into Pandas DataFrame"
   ]
  },
  {
   "cell_type": "code",
   "execution_count": 4,
   "metadata": {},
   "outputs": [
    {
     "data": {
      "text/html": [
       "<div>\n",
       "<style scoped>\n",
       "    .dataframe tbody tr th:only-of-type {\n",
       "        vertical-align: middle;\n",
       "    }\n",
       "\n",
       "    .dataframe tbody tr th {\n",
       "        vertical-align: top;\n",
       "    }\n",
       "\n",
       "    .dataframe thead th {\n",
       "        text-align: right;\n",
       "    }\n",
       "</style>\n",
       "<table border=\"1\" class=\"dataframe\">\n",
       "  <thead>\n",
       "    <tr style=\"text-align: right;\">\n",
       "      <th></th>\n",
       "      <th>Company \\n(Maker-if known)</th>\n",
       "      <th>Specific Bean Origin\\nor Bar Name</th>\n",
       "      <th>REF</th>\n",
       "      <th>Review\\nDate</th>\n",
       "      <th>Cocoa\\nPercent</th>\n",
       "      <th>Company\\nLocation</th>\n",
       "      <th>Rating</th>\n",
       "      <th>Bean\\nType</th>\n",
       "      <th>Broad Bean\\nOrigin</th>\n",
       "    </tr>\n",
       "  </thead>\n",
       "  <tbody>\n",
       "    <tr>\n",
       "      <th>0</th>\n",
       "      <td>A. Morin</td>\n",
       "      <td>Agua Grande</td>\n",
       "      <td>1876</td>\n",
       "      <td>2016</td>\n",
       "      <td>63%</td>\n",
       "      <td>France</td>\n",
       "      <td>3.75</td>\n",
       "      <td></td>\n",
       "      <td>Sao Tome</td>\n",
       "    </tr>\n",
       "    <tr>\n",
       "      <th>1</th>\n",
       "      <td>A. Morin</td>\n",
       "      <td>Kpime</td>\n",
       "      <td>1676</td>\n",
       "      <td>2015</td>\n",
       "      <td>70%</td>\n",
       "      <td>France</td>\n",
       "      <td>2.75</td>\n",
       "      <td></td>\n",
       "      <td>Togo</td>\n",
       "    </tr>\n",
       "    <tr>\n",
       "      <th>2</th>\n",
       "      <td>A. Morin</td>\n",
       "      <td>Atsane</td>\n",
       "      <td>1676</td>\n",
       "      <td>2015</td>\n",
       "      <td>70%</td>\n",
       "      <td>France</td>\n",
       "      <td>3</td>\n",
       "      <td></td>\n",
       "      <td>Togo</td>\n",
       "    </tr>\n",
       "    <tr>\n",
       "      <th>3</th>\n",
       "      <td>A. Morin</td>\n",
       "      <td>Akata</td>\n",
       "      <td>1680</td>\n",
       "      <td>2015</td>\n",
       "      <td>70%</td>\n",
       "      <td>France</td>\n",
       "      <td>3.5</td>\n",
       "      <td></td>\n",
       "      <td>Togo</td>\n",
       "    </tr>\n",
       "    <tr>\n",
       "      <th>4</th>\n",
       "      <td>A. Morin</td>\n",
       "      <td>Quilla</td>\n",
       "      <td>1704</td>\n",
       "      <td>2015</td>\n",
       "      <td>70%</td>\n",
       "      <td>France</td>\n",
       "      <td>3.5</td>\n",
       "      <td></td>\n",
       "      <td>Peru</td>\n",
       "    </tr>\n",
       "  </tbody>\n",
       "</table>\n",
       "</div>"
      ],
      "text/plain": [
       "  Company \\n(Maker-if known) Specific Bean Origin\\nor Bar Name   REF  \\\n",
       "0                   A. Morin                       Agua Grande  1876   \n",
       "1                   A. Morin                             Kpime  1676   \n",
       "2                   A. Morin                            Atsane  1676   \n",
       "3                   A. Morin                             Akata  1680   \n",
       "4                   A. Morin                            Quilla  1704   \n",
       "\n",
       "  Review\\nDate Cocoa\\nPercent Company\\nLocation Rating Bean\\nType  \\\n",
       "0         2016            63%            France   3.75              \n",
       "1         2015            70%            France   2.75              \n",
       "2         2015            70%            France      3              \n",
       "3         2015            70%            France    3.5              \n",
       "4         2015            70%            France    3.5              \n",
       "\n",
       "  Broad Bean\\nOrigin  \n",
       "0           Sao Tome  \n",
       "1               Togo  \n",
       "2               Togo  \n",
       "3               Togo  \n",
       "4               Peru  "
      ]
     },
     "execution_count": 4,
     "metadata": {},
     "output_type": "execute_result"
    }
   ],
   "source": [
    "df = pd.read_csv('flavors_of_cacao.csv', dtype=str)\n",
    "df.head(5) #Display first 5 rows"
   ]
  },
  {
   "cell_type": "markdown",
   "metadata": {},
   "source": [
    "# 2) Data Understanding"
   ]
  },
  {
   "cell_type": "markdown",
   "metadata": {},
   "source": [
    "**ACCESS**"
   ]
  },
  {
   "cell_type": "code",
   "execution_count": 5,
   "metadata": {},
   "outputs": [
    {
     "data": {
      "text/plain": [
       "1795"
      ]
     },
     "execution_count": 5,
     "metadata": {},
     "output_type": "execute_result"
    }
   ],
   "source": [
    "num_rows = df.shape[0]\n",
    "num_rows"
   ]
  },
  {
   "cell_type": "code",
   "execution_count": 6,
   "metadata": {},
   "outputs": [
    {
     "data": {
      "text/html": [
       "<div>\n",
       "<style scoped>\n",
       "    .dataframe tbody tr th:only-of-type {\n",
       "        vertical-align: middle;\n",
       "    }\n",
       "\n",
       "    .dataframe tbody tr th {\n",
       "        vertical-align: top;\n",
       "    }\n",
       "\n",
       "    .dataframe thead th {\n",
       "        text-align: right;\n",
       "    }\n",
       "</style>\n",
       "<table border=\"1\" class=\"dataframe\">\n",
       "  <thead>\n",
       "    <tr style=\"text-align: right;\">\n",
       "      <th></th>\n",
       "      <th>Company _(Maker-if known)</th>\n",
       "      <th>Specific Bean Origin_or Bar Name</th>\n",
       "      <th>REF</th>\n",
       "      <th>Review_Date</th>\n",
       "      <th>Cocoa_Percent</th>\n",
       "      <th>Company_Location</th>\n",
       "      <th>Rating</th>\n",
       "      <th>Bean_Type</th>\n",
       "      <th>Broad Bean_Origin</th>\n",
       "    </tr>\n",
       "  </thead>\n",
       "  <tbody>\n",
       "    <tr>\n",
       "      <th>0</th>\n",
       "      <td>A. Morin</td>\n",
       "      <td>Agua Grande</td>\n",
       "      <td>1876</td>\n",
       "      <td>2016</td>\n",
       "      <td>63%</td>\n",
       "      <td>France</td>\n",
       "      <td>3.75</td>\n",
       "      <td></td>\n",
       "      <td>Sao Tome</td>\n",
       "    </tr>\n",
       "    <tr>\n",
       "      <th>1</th>\n",
       "      <td>A. Morin</td>\n",
       "      <td>Kpime</td>\n",
       "      <td>1676</td>\n",
       "      <td>2015</td>\n",
       "      <td>70%</td>\n",
       "      <td>France</td>\n",
       "      <td>2.75</td>\n",
       "      <td></td>\n",
       "      <td>Togo</td>\n",
       "    </tr>\n",
       "    <tr>\n",
       "      <th>2</th>\n",
       "      <td>A. Morin</td>\n",
       "      <td>Atsane</td>\n",
       "      <td>1676</td>\n",
       "      <td>2015</td>\n",
       "      <td>70%</td>\n",
       "      <td>France</td>\n",
       "      <td>3</td>\n",
       "      <td></td>\n",
       "      <td>Togo</td>\n",
       "    </tr>\n",
       "    <tr>\n",
       "      <th>3</th>\n",
       "      <td>A. Morin</td>\n",
       "      <td>Akata</td>\n",
       "      <td>1680</td>\n",
       "      <td>2015</td>\n",
       "      <td>70%</td>\n",
       "      <td>France</td>\n",
       "      <td>3.5</td>\n",
       "      <td></td>\n",
       "      <td>Togo</td>\n",
       "    </tr>\n",
       "    <tr>\n",
       "      <th>4</th>\n",
       "      <td>A. Morin</td>\n",
       "      <td>Quilla</td>\n",
       "      <td>1704</td>\n",
       "      <td>2015</td>\n",
       "      <td>70%</td>\n",
       "      <td>France</td>\n",
       "      <td>3.5</td>\n",
       "      <td></td>\n",
       "      <td>Peru</td>\n",
       "    </tr>\n",
       "  </tbody>\n",
       "</table>\n",
       "</div>"
      ],
      "text/plain": [
       "  Company _(Maker-if known) Specific Bean Origin_or Bar Name   REF  \\\n",
       "0                  A. Morin                      Agua Grande  1876   \n",
       "1                  A. Morin                            Kpime  1676   \n",
       "2                  A. Morin                           Atsane  1676   \n",
       "3                  A. Morin                            Akata  1680   \n",
       "4                  A. Morin                           Quilla  1704   \n",
       "\n",
       "  Review_Date Cocoa_Percent Company_Location Rating Bean_Type  \\\n",
       "0        2016           63%           France   3.75             \n",
       "1        2015           70%           France   2.75             \n",
       "2        2015           70%           France      3             \n",
       "3        2015           70%           France    3.5             \n",
       "4        2015           70%           France    3.5             \n",
       "\n",
       "  Broad Bean_Origin  \n",
       "0          Sao Tome  \n",
       "1              Togo  \n",
       "2              Togo  \n",
       "3              Togo  \n",
       "4              Peru  "
      ]
     },
     "execution_count": 6,
     "metadata": {},
     "output_type": "execute_result"
    }
   ],
   "source": [
    "#Let's clean up the column titles.\n",
    "\n",
    "df.columns = [label.replace('\\n', '_') for label in df.columns]\n",
    "df.head()"
   ]
  },
  {
   "cell_type": "code",
   "execution_count": 7,
   "metadata": {},
   "outputs": [
    {
     "data": {
      "text/html": [
       "<div>\n",
       "<style scoped>\n",
       "    .dataframe tbody tr th:only-of-type {\n",
       "        vertical-align: middle;\n",
       "    }\n",
       "\n",
       "    .dataframe tbody tr th {\n",
       "        vertical-align: top;\n",
       "    }\n",
       "\n",
       "    .dataframe thead th {\n",
       "        text-align: right;\n",
       "    }\n",
       "</style>\n",
       "<table border=\"1\" class=\"dataframe\">\n",
       "  <thead>\n",
       "    <tr style=\"text-align: right;\">\n",
       "      <th></th>\n",
       "      <th>Company _(Maker-if known)</th>\n",
       "      <th>Specific Bean Origin_or Bar Name</th>\n",
       "      <th>REF</th>\n",
       "      <th>Review_Date</th>\n",
       "      <th>Cocoa_Percent</th>\n",
       "      <th>Company_Location</th>\n",
       "      <th>Rating</th>\n",
       "      <th>Bean_Type</th>\n",
       "      <th>Broad Bean_Origin</th>\n",
       "    </tr>\n",
       "  </thead>\n",
       "  <tbody>\n",
       "    <tr>\n",
       "      <th>count</th>\n",
       "      <td>1795</td>\n",
       "      <td>1795</td>\n",
       "      <td>1795</td>\n",
       "      <td>1795</td>\n",
       "      <td>1795</td>\n",
       "      <td>1795</td>\n",
       "      <td>1795</td>\n",
       "      <td>1794</td>\n",
       "      <td>1794</td>\n",
       "    </tr>\n",
       "    <tr>\n",
       "      <th>unique</th>\n",
       "      <td>416</td>\n",
       "      <td>1039</td>\n",
       "      <td>440</td>\n",
       "      <td>12</td>\n",
       "      <td>45</td>\n",
       "      <td>60</td>\n",
       "      <td>13</td>\n",
       "      <td>41</td>\n",
       "      <td>100</td>\n",
       "    </tr>\n",
       "    <tr>\n",
       "      <th>top</th>\n",
       "      <td>Soma</td>\n",
       "      <td>Madagascar</td>\n",
       "      <td>414</td>\n",
       "      <td>2015</td>\n",
       "      <td>70%</td>\n",
       "      <td>U.S.A.</td>\n",
       "      <td>3.5</td>\n",
       "      <td></td>\n",
       "      <td>Venezuela</td>\n",
       "    </tr>\n",
       "    <tr>\n",
       "      <th>freq</th>\n",
       "      <td>47</td>\n",
       "      <td>57</td>\n",
       "      <td>10</td>\n",
       "      <td>285</td>\n",
       "      <td>672</td>\n",
       "      <td>764</td>\n",
       "      <td>392</td>\n",
       "      <td>887</td>\n",
       "      <td>214</td>\n",
       "    </tr>\n",
       "  </tbody>\n",
       "</table>\n",
       "</div>"
      ],
      "text/plain": [
       "       Company _(Maker-if known) Specific Bean Origin_or Bar Name   REF  \\\n",
       "count                       1795                             1795  1795   \n",
       "unique                       416                             1039   440   \n",
       "top                         Soma                       Madagascar   414   \n",
       "freq                          47                               57    10   \n",
       "\n",
       "       Review_Date Cocoa_Percent Company_Location Rating Bean_Type  \\\n",
       "count         1795          1795             1795   1795      1794   \n",
       "unique          12            45               60     13        41   \n",
       "top           2015           70%           U.S.A.    3.5             \n",
       "freq           285           672              764    392       887   \n",
       "\n",
       "       Broad Bean_Origin  \n",
       "count               1794  \n",
       "unique               100  \n",
       "top            Venezuela  \n",
       "freq                 214  "
      ]
     },
     "execution_count": 7,
     "metadata": {},
     "output_type": "execute_result"
    }
   ],
   "source": [
    "df.describe()"
   ]
  },
  {
   "cell_type": "markdown",
   "metadata": {},
   "source": [
    "# 3) Data Preparation"
   ]
  },
  {
   "cell_type": "markdown",
   "metadata": {},
   "source": [
    "**CLEAN**"
   ]
  },
  {
   "cell_type": "markdown",
   "metadata": {},
   "source": [
    "Here are the cleaning objectives for this dataset:\n",
    "\n",
    "_1) Convert columns from object to float/int when applicable_\n",
    "\n",
    "_2) Drop any columns with major missing values (like Rating)_\n",
    "\n",
    "_3) Fill NaN values using appropriate imputation methods_\n",
    "\n",
    "_**Note that items 2 and 3 will be completed in the function (with DocString) 'clean_data'**_"
   ]
  },
  {
   "cell_type": "code",
   "execution_count": 8,
   "metadata": {},
   "outputs": [
    {
     "data": {
      "text/plain": [
       "dtype('float32')"
      ]
     },
     "execution_count": 8,
     "metadata": {},
     "output_type": "execute_result"
    }
   ],
   "source": [
    "# 1) Let's convert Rating into a Rating_Float column so we have a proper response vector.\n",
    "\n",
    "df['Rating_Float'] = pd.to_numeric(df['Rating'], downcast='float')\n",
    "df['Rating_Float'].dtype #Confirming this new column is 32-bit Float"
   ]
  },
  {
   "cell_type": "code",
   "execution_count": 9,
   "metadata": {},
   "outputs": [
    {
     "data": {
      "text/plain": [
       "dtype('float32')"
      ]
     },
     "execution_count": 9,
     "metadata": {},
     "output_type": "execute_result"
    }
   ],
   "source": [
    "# 1) Continued, converting 'Cocoa_Percent' \n",
    "df['Cocoa_Pct_Float'] = df.apply(lambda x: x['Cocoa_Percent'][:2], axis=1)\n",
    "df['Cocoa_Pct_Float'] = pd.to_numeric(df['Cocoa_Pct_Float'], downcast='float')\n",
    "df['Cocoa_Pct_Float'].dtype"
   ]
  },
  {
   "cell_type": "code",
   "execution_count": 10,
   "metadata": {},
   "outputs": [
    {
     "data": {
      "text/html": [
       "<div>\n",
       "<style scoped>\n",
       "    .dataframe tbody tr th:only-of-type {\n",
       "        vertical-align: middle;\n",
       "    }\n",
       "\n",
       "    .dataframe tbody tr th {\n",
       "        vertical-align: top;\n",
       "    }\n",
       "\n",
       "    .dataframe thead th {\n",
       "        text-align: right;\n",
       "    }\n",
       "</style>\n",
       "<table border=\"1\" class=\"dataframe\">\n",
       "  <thead>\n",
       "    <tr style=\"text-align: right;\">\n",
       "      <th></th>\n",
       "      <th>Company _(Maker-if known)</th>\n",
       "      <th>Specific Bean Origin_or Bar Name</th>\n",
       "      <th>REF</th>\n",
       "      <th>Review_Date</th>\n",
       "      <th>Cocoa_Percent</th>\n",
       "      <th>Company_Location</th>\n",
       "      <th>Rating</th>\n",
       "      <th>Bean_Type</th>\n",
       "      <th>Broad Bean_Origin</th>\n",
       "      <th>Rating_Float</th>\n",
       "      <th>Cocoa_Pct_Float</th>\n",
       "    </tr>\n",
       "  </thead>\n",
       "  <tbody>\n",
       "    <tr>\n",
       "      <th>0</th>\n",
       "      <td>A. Morin</td>\n",
       "      <td>Agua Grande</td>\n",
       "      <td>1876</td>\n",
       "      <td>2016</td>\n",
       "      <td>63%</td>\n",
       "      <td>France</td>\n",
       "      <td>3.75</td>\n",
       "      <td></td>\n",
       "      <td>Sao Tome</td>\n",
       "      <td>3.75</td>\n",
       "      <td>63.0</td>\n",
       "    </tr>\n",
       "    <tr>\n",
       "      <th>1</th>\n",
       "      <td>A. Morin</td>\n",
       "      <td>Kpime</td>\n",
       "      <td>1676</td>\n",
       "      <td>2015</td>\n",
       "      <td>70%</td>\n",
       "      <td>France</td>\n",
       "      <td>2.75</td>\n",
       "      <td></td>\n",
       "      <td>Togo</td>\n",
       "      <td>2.75</td>\n",
       "      <td>70.0</td>\n",
       "    </tr>\n",
       "    <tr>\n",
       "      <th>2</th>\n",
       "      <td>A. Morin</td>\n",
       "      <td>Atsane</td>\n",
       "      <td>1676</td>\n",
       "      <td>2015</td>\n",
       "      <td>70%</td>\n",
       "      <td>France</td>\n",
       "      <td>3</td>\n",
       "      <td></td>\n",
       "      <td>Togo</td>\n",
       "      <td>3.00</td>\n",
       "      <td>70.0</td>\n",
       "    </tr>\n",
       "    <tr>\n",
       "      <th>3</th>\n",
       "      <td>A. Morin</td>\n",
       "      <td>Akata</td>\n",
       "      <td>1680</td>\n",
       "      <td>2015</td>\n",
       "      <td>70%</td>\n",
       "      <td>France</td>\n",
       "      <td>3.5</td>\n",
       "      <td></td>\n",
       "      <td>Togo</td>\n",
       "      <td>3.50</td>\n",
       "      <td>70.0</td>\n",
       "    </tr>\n",
       "    <tr>\n",
       "      <th>4</th>\n",
       "      <td>A. Morin</td>\n",
       "      <td>Quilla</td>\n",
       "      <td>1704</td>\n",
       "      <td>2015</td>\n",
       "      <td>70%</td>\n",
       "      <td>France</td>\n",
       "      <td>3.5</td>\n",
       "      <td></td>\n",
       "      <td>Peru</td>\n",
       "      <td>3.50</td>\n",
       "      <td>70.0</td>\n",
       "    </tr>\n",
       "  </tbody>\n",
       "</table>\n",
       "</div>"
      ],
      "text/plain": [
       "  Company _(Maker-if known) Specific Bean Origin_or Bar Name   REF  \\\n",
       "0                  A. Morin                      Agua Grande  1876   \n",
       "1                  A. Morin                            Kpime  1676   \n",
       "2                  A. Morin                           Atsane  1676   \n",
       "3                  A. Morin                            Akata  1680   \n",
       "4                  A. Morin                           Quilla  1704   \n",
       "\n",
       "  Review_Date Cocoa_Percent Company_Location Rating Bean_Type  \\\n",
       "0        2016           63%           France   3.75             \n",
       "1        2015           70%           France   2.75             \n",
       "2        2015           70%           France      3             \n",
       "3        2015           70%           France    3.5             \n",
       "4        2015           70%           France    3.5             \n",
       "\n",
       "  Broad Bean_Origin  Rating_Float  Cocoa_Pct_Float  \n",
       "0          Sao Tome          3.75             63.0  \n",
       "1              Togo          2.75             70.0  \n",
       "2              Togo          3.00             70.0  \n",
       "3              Togo          3.50             70.0  \n",
       "4              Peru          3.50             70.0  "
      ]
     },
     "execution_count": 10,
     "metadata": {},
     "output_type": "execute_result"
    }
   ],
   "source": [
    "# Let's make sure the data frame looks like we want it to:\n",
    "df.head(5)"
   ]
  },
  {
   "cell_type": "code",
   "execution_count": 11,
   "metadata": {},
   "outputs": [
    {
     "data": {
      "text/plain": [
       "0.0"
      ]
     },
     "execution_count": 11,
     "metadata": {},
     "output_type": "execute_result"
    }
   ],
   "source": [
    "df['Specific Bean Origin_or Bar Name'].isnull().mean()"
   ]
  },
  {
   "cell_type": "code",
   "execution_count": 155,
   "metadata": {},
   "outputs": [
    {
     "name": "stdout",
     "output_type": "stream",
     "text": [
      "<class 'pandas.core.frame.DataFrame'>\n",
      "RangeIndex: 1795 entries, 0 to 1794\n",
      "Data columns (total 11 columns):\n",
      " #   Column                            Non-Null Count  Dtype  \n",
      "---  ------                            --------------  -----  \n",
      " 0   Company _(Maker-if known)         1795 non-null   object \n",
      " 1   Specific Bean Origin_or Bar Name  1795 non-null   object \n",
      " 2   REF                               1795 non-null   object \n",
      " 3   Review_Date                       1795 non-null   object \n",
      " 4   Cocoa_Percent                     1795 non-null   object \n",
      " 5   Company_Location                  1795 non-null   object \n",
      " 6   Rating                            1795 non-null   object \n",
      " 7   Bean_Type                         1794 non-null   object \n",
      " 8   Broad Bean_Origin                 1794 non-null   object \n",
      " 9   Rating_Float                      1795 non-null   float32\n",
      " 10  Cocoa_Pct_Float                   1795 non-null   float32\n",
      "dtypes: float32(2), object(9)\n",
      "memory usage: 140.4+ KB\n"
     ]
    }
   ],
   "source": [
    "df.info()"
   ]
  },
  {
   "cell_type": "code",
   "execution_count": 207,
   "metadata": {},
   "outputs": [],
   "source": [
    "def clean_data(df):\n",
    "    '''\n",
    "    INPUT\n",
    "    df - Chocolate DataFrame\n",
    "    \n",
    "    OUTPUT\n",
    "    X - All factors contributing to linear model\n",
    "    y - Dependent variable (response)\n",
    "    '''\n",
    "    # Drop rows with missing salary values\n",
    "    model_df = df\n",
    "    \n",
    "    model_df = model_df.dropna(subset=['Rating_Float'], axis=0)\n",
    "    y = model_df['Rating_Float']\n",
    "    \n",
    "    model_df = model_df.drop(['REF', 'Review_Date','Rating_Float', 'Cocoa_Percent', 'Rating', 'Bean_Type', 'Company\\xa0_(Maker-if known)', 'Broad Bean_Origin', 'Specific Bean Origin_or Bar Name'], axis=1)\n",
    "    \n",
    "    # Fill numeric columns with the mean\n",
    "    num_vars = model_df.select_dtypes(include=['float', 'int']).columns\n",
    "    for col in num_vars:\n",
    "        df[col].fillna((model_df[col].mean()), inplace=True)\n",
    "    \n",
    "    #Dummy the categorical variables\n",
    "    cat_vars = model_df.select_dtypes(include=['object']).copy().columns\n",
    "    for var in  cat_vars:\n",
    "        #for each cat add dummy var, drop original column\n",
    "        model_df = pd.concat([model_df.drop(var, axis=1), pd.get_dummies(model_df[var], prefix=var, prefix_sep='_', drop_first=True)], axis=1)\n",
    "    \n",
    "    X = model_df\n",
    "    return X, y\n",
    "    \n",
    "#Use the function to create X and y\n",
    "X, y = clean_data(df)    "
   ]
  },
  {
   "cell_type": "code",
   "execution_count": null,
   "metadata": {},
   "outputs": [],
   "source": []
  },
  {
   "cell_type": "code",
   "execution_count": 208,
   "metadata": {},
   "outputs": [],
   "source": [
    "#We will use X and y below in the analysis section to compute a linear model.\n",
    "\n",
    "X, y = clean_data(df)      "
   ]
  },
  {
   "cell_type": "code",
   "execution_count": 209,
   "metadata": {},
   "outputs": [
    {
     "data": {
      "text/plain": [
       "70.69359588623047"
      ]
     },
     "execution_count": 209,
     "metadata": {},
     "output_type": "execute_result"
    }
   ],
   "source": [
    "df['Cocoa_Pct_Float'].mean()"
   ]
  },
  {
   "cell_type": "markdown",
   "metadata": {},
   "source": [
    "# 4) Answer Questions"
   ]
  },
  {
   "cell_type": "markdown",
   "metadata": {},
   "source": [
    "**ANALYZE**"
   ]
  },
  {
   "cell_type": "markdown",
   "metadata": {},
   "source": [
    "**Is there a relationship between highly rated chocolate and its cacao bean source? eg. Where are the best beans from?**"
   ]
  },
  {
   "cell_type": "code",
   "execution_count": 24,
   "metadata": {},
   "outputs": [
    {
     "data": {
      "text/html": [
       "<div>\n",
       "<style scoped>\n",
       "    .dataframe tbody tr th:only-of-type {\n",
       "        vertical-align: middle;\n",
       "    }\n",
       "\n",
       "    .dataframe tbody tr th {\n",
       "        vertical-align: top;\n",
       "    }\n",
       "\n",
       "    .dataframe thead th {\n",
       "        text-align: right;\n",
       "    }\n",
       "</style>\n",
       "<table border=\"1\" class=\"dataframe\">\n",
       "  <thead>\n",
       "    <tr style=\"text-align: right;\">\n",
       "      <th></th>\n",
       "      <th>Rating_Float</th>\n",
       "    </tr>\n",
       "    <tr>\n",
       "      <th>Broad Bean_Origin</th>\n",
       "      <th></th>\n",
       "    </tr>\n",
       "  </thead>\n",
       "  <tbody>\n",
       "    <tr>\n",
       "      <th>Dom. Rep., Madagascar</th>\n",
       "      <td>4.0</td>\n",
       "    </tr>\n",
       "    <tr>\n",
       "      <th>Gre., PNG, Haw., Haiti, Mad</th>\n",
       "      <td>4.0</td>\n",
       "    </tr>\n",
       "    <tr>\n",
       "      <th>Guat., D.R., Peru, Mad., PNG</th>\n",
       "      <td>4.0</td>\n",
       "    </tr>\n",
       "    <tr>\n",
       "      <th>Peru, Dom. Rep</th>\n",
       "      <td>4.0</td>\n",
       "    </tr>\n",
       "    <tr>\n",
       "      <th>Ven, Bolivia, D.R.</th>\n",
       "      <td>4.0</td>\n",
       "    </tr>\n",
       "    <tr>\n",
       "      <th>Venezuela, Java</th>\n",
       "      <td>4.0</td>\n",
       "    </tr>\n",
       "  </tbody>\n",
       "</table>\n",
       "</div>"
      ],
      "text/plain": [
       "                              Rating_Float\n",
       "Broad Bean_Origin                         \n",
       "Dom. Rep., Madagascar                  4.0\n",
       "Gre., PNG, Haw., Haiti, Mad            4.0\n",
       "Guat., D.R., Peru, Mad., PNG           4.0\n",
       "Peru, Dom. Rep                         4.0\n",
       "Ven, Bolivia, D.R.                     4.0\n",
       "Venezuela, Java                        4.0"
      ]
     },
     "execution_count": 24,
     "metadata": {},
     "output_type": "execute_result"
    }
   ],
   "source": [
    "#Let's group by Broad Bean Origin\n",
    "\n",
    "groupby_origin = df.groupby('Broad Bean_Origin').mean()['Rating_Float']\n",
    "df_groupby_origin = pd.DataFrame(groupby_origin)\n",
    "df_groupby_origin.reset_index()\n",
    "\n",
    "df_groupby_origin[df_groupby_origin['Rating_Float'] == df_groupby_origin['Rating_Float'].max()] "
   ]
  },
  {
   "cell_type": "markdown",
   "metadata": {},
   "source": [
    "Great! Now we know that the chocolate with the highest ratings uses beans sourced from the Dominican Republic, Madagascar, Peru, Venezuela, Haiti, Guatemala, etc."
   ]
  },
  {
   "cell_type": "markdown",
   "metadata": {},
   "source": [
    "**Does cacao percent in a chocolate bar equate to higher ratings?**"
   ]
  },
  {
   "cell_type": "code",
   "execution_count": 25,
   "metadata": {},
   "outputs": [
    {
     "data": {
      "text/plain": [
       "<matplotlib.axes._subplots.AxesSubplot at 0x1067d0e50>"
      ]
     },
     "execution_count": 25,
     "metadata": {},
     "output_type": "execute_result"
    },
    {
     "data": {
      "image/png": "[encoded data removed]",
      "text/plain": [
       "<Figure size 432x288 with 1 Axes>"
      ]
     },
     "metadata": {
      "needs_background": "light"
     },
     "output_type": "display_data"
    }
   ],
   "source": [
    "sns.regplot(x='Cocoa_Pct_Float', y='Rating_Float', data=df, label = 'Legend')"
   ]
  },
  {
   "cell_type": "markdown",
   "metadata": {},
   "source": [
    "Modest increases in ratings are seen when the percent cacao is increased. However, these data suggest that it's impossible to get higher than a 3.5 rating out of 5 if you have less than 20% cacao in the chocolate."
   ]
  },
  {
   "cell_type": "markdown",
   "metadata": {},
   "source": [
    "**Is company location correlated with ratings?**"
   ]
  },
  {
   "cell_type": "code",
   "execution_count": 26,
   "metadata": {},
   "outputs": [
    {
     "data": {
      "text/html": [
       "<div>\n",
       "<style scoped>\n",
       "    .dataframe tbody tr th:only-of-type {\n",
       "        vertical-align: middle;\n",
       "    }\n",
       "\n",
       "    .dataframe tbody tr th {\n",
       "        vertical-align: top;\n",
       "    }\n",
       "\n",
       "    .dataframe thead th {\n",
       "        text-align: right;\n",
       "    }\n",
       "</style>\n",
       "<table border=\"1\" class=\"dataframe\">\n",
       "  <thead>\n",
       "    <tr style=\"text-align: right;\">\n",
       "      <th></th>\n",
       "      <th>Company_Location</th>\n",
       "      <th>Rating_Float</th>\n",
       "    </tr>\n",
       "  </thead>\n",
       "  <tbody>\n",
       "    <tr>\n",
       "      <th>0</th>\n",
       "      <td>Amsterdam</td>\n",
       "      <td>3.500000</td>\n",
       "    </tr>\n",
       "    <tr>\n",
       "      <th>1</th>\n",
       "      <td>Argentina</td>\n",
       "      <td>3.305556</td>\n",
       "    </tr>\n",
       "    <tr>\n",
       "      <th>2</th>\n",
       "      <td>Australia</td>\n",
       "      <td>3.357143</td>\n",
       "    </tr>\n",
       "    <tr>\n",
       "      <th>3</th>\n",
       "      <td>Austria</td>\n",
       "      <td>3.240385</td>\n",
       "    </tr>\n",
       "    <tr>\n",
       "      <th>4</th>\n",
       "      <td>Belgium</td>\n",
       "      <td>3.093750</td>\n",
       "    </tr>\n",
       "    <tr>\n",
       "      <th>5</th>\n",
       "      <td>Bolivia</td>\n",
       "      <td>3.250000</td>\n",
       "    </tr>\n",
       "    <tr>\n",
       "      <th>6</th>\n",
       "      <td>Brazil</td>\n",
       "      <td>3.397059</td>\n",
       "    </tr>\n",
       "    <tr>\n",
       "      <th>7</th>\n",
       "      <td>Canada</td>\n",
       "      <td>3.324000</td>\n",
       "    </tr>\n",
       "    <tr>\n",
       "      <th>8</th>\n",
       "      <td>Chile</td>\n",
       "      <td>3.750000</td>\n",
       "    </tr>\n",
       "    <tr>\n",
       "      <th>9</th>\n",
       "      <td>Colombia</td>\n",
       "      <td>3.173913</td>\n",
       "    </tr>\n",
       "  </tbody>\n",
       "</table>\n",
       "</div>"
      ],
      "text/plain": [
       "  Company_Location  Rating_Float\n",
       "0        Amsterdam      3.500000\n",
       "1        Argentina      3.305556\n",
       "2        Australia      3.357143\n",
       "3          Austria      3.240385\n",
       "4          Belgium      3.093750\n",
       "5          Bolivia      3.250000\n",
       "6           Brazil      3.397059\n",
       "7           Canada      3.324000\n",
       "8            Chile      3.750000\n",
       "9         Colombia      3.173913"
      ]
     },
     "execution_count": 26,
     "metadata": {},
     "output_type": "execute_result"
    }
   ],
   "source": [
    "#Let's group by Company Location\n",
    "\n",
    "df_comp = df.groupby('Company_Location').mean()['Rating_Float']\n",
    "df_comp = pd.DataFrame(df_comp)\n",
    "df_comp.reset_index(level=0, inplace=True)\n",
    "df_comp.head(10)"
   ]
  },
  {
   "cell_type": "markdown",
   "metadata": {},
   "source": [
    "See the **\"VISUALIZE\"** section below for a more detailed answer to this question."
   ]
  },
  {
   "cell_type": "markdown",
   "metadata": {},
   "source": [
    "**What is the world's best chocolate bar?**"
   ]
  },
  {
   "cell_type": "code",
   "execution_count": 27,
   "metadata": {},
   "outputs": [
    {
     "data": {
      "text/html": [
       "<div>\n",
       "<style scoped>\n",
       "    .dataframe tbody tr th:only-of-type {\n",
       "        vertical-align: middle;\n",
       "    }\n",
       "\n",
       "    .dataframe tbody tr th {\n",
       "        vertical-align: top;\n",
       "    }\n",
       "\n",
       "    .dataframe thead th {\n",
       "        text-align: right;\n",
       "    }\n",
       "</style>\n",
       "<table border=\"1\" class=\"dataframe\">\n",
       "  <thead>\n",
       "    <tr style=\"text-align: right;\">\n",
       "      <th></th>\n",
       "      <th>Company _(Maker-if known)</th>\n",
       "      <th>Specific Bean Origin_or Bar Name</th>\n",
       "      <th>REF</th>\n",
       "      <th>Review_Date</th>\n",
       "      <th>Cocoa_Percent</th>\n",
       "      <th>Company_Location</th>\n",
       "      <th>Rating</th>\n",
       "      <th>Bean_Type</th>\n",
       "      <th>Broad Bean_Origin</th>\n",
       "      <th>Rating_Float</th>\n",
       "      <th>Cocoa_Pct_Float</th>\n",
       "    </tr>\n",
       "  </thead>\n",
       "  <tbody>\n",
       "    <tr>\n",
       "      <th>78</th>\n",
       "      <td>Amedei</td>\n",
       "      <td>Chuao</td>\n",
       "      <td>111</td>\n",
       "      <td>2007</td>\n",
       "      <td>70%</td>\n",
       "      <td>Italy</td>\n",
       "      <td>5</td>\n",
       "      <td>Trinitario</td>\n",
       "      <td>Venezuela</td>\n",
       "      <td>5.0</td>\n",
       "      <td>70.0</td>\n",
       "    </tr>\n",
       "    <tr>\n",
       "      <th>86</th>\n",
       "      <td>Amedei</td>\n",
       "      <td>Toscano Black</td>\n",
       "      <td>40</td>\n",
       "      <td>2006</td>\n",
       "      <td>70%</td>\n",
       "      <td>Italy</td>\n",
       "      <td>5</td>\n",
       "      <td>Blend</td>\n",
       "      <td></td>\n",
       "      <td>5.0</td>\n",
       "      <td>70.0</td>\n",
       "    </tr>\n",
       "  </tbody>\n",
       "</table>\n",
       "</div>"
      ],
      "text/plain": [
       "   Company _(Maker-if known) Specific Bean Origin_or Bar Name  REF  \\\n",
       "78                    Amedei                            Chuao  111   \n",
       "86                    Amedei                    Toscano Black   40   \n",
       "\n",
       "   Review_Date Cocoa_Percent Company_Location Rating   Bean_Type  \\\n",
       "78        2007           70%            Italy      5  Trinitario   \n",
       "86        2006           70%            Italy      5       Blend   \n",
       "\n",
       "   Broad Bean_Origin  Rating_Float  Cocoa_Pct_Float  \n",
       "78         Venezuela           5.0             70.0  \n",
       "86                             5.0             70.0  "
      ]
     },
     "execution_count": 27,
     "metadata": {},
     "output_type": "execute_result"
    }
   ],
   "source": [
    "#What is the absolute highest rating in the dataset?\n",
    "df[df['Rating_Float'] == df['Rating_Float'].max()] "
   ]
  },
  {
   "cell_type": "markdown",
   "metadata": {},
   "source": [
    "We can see above that the best chocolate bars in the world are from Italian chocolate manufacturer **_Amadei: Toscano Black and Chuao._**"
   ]
  },
  {
   "cell_type": "markdown",
   "metadata": {},
   "source": [
    "**VISUALIZE**"
   ]
  },
  {
   "cell_type": "code",
   "execution_count": 122,
   "metadata": {},
   "outputs": [],
   "source": [
    "df_bean_type = df.groupby('Bean_Type').mean()['Rating_Float']\n",
    "df_bean_type = pd.DataFrame(df_bean_type)\n",
    "df_bean_type.reset_index(level=0, inplace=True)"
   ]
  },
  {
   "cell_type": "code",
   "execution_count": 123,
   "metadata": {},
   "outputs": [],
   "source": [
    "def sns_barplot(x_column, y_column, df, x_axis, title_s):\n",
    "    '''\n",
    "    This function will plot a seaborn barplot based on which chocolate element we are interested in.\n",
    "    \n",
    "    INPUT:\n",
    "    x_column: the independent variable (column) we wish to plot on the x axis\n",
    "    y_column: the dependent result variable (column) to plot on the y axis\n",
    "    df: the dataframe containing the information we want to graph\n",
    "    x_axis (string): title of x axis\n",
    "    title_s (string): title of the graph itself.\n",
    "    \n",
    "    OUTPUT:\n",
    "    A seaborn plot with the top 10 highest rated rows in order.\n",
    "    '''\n",
    "    df_sort = df.sort_values(by = [y_column], axis=0, ascending=False)\n",
    "    \n",
    "    sns.set(style=\"whitegrid\")\n",
    "    ax = sns.barplot(x = x_column, y = y_column, data = df_sort.head(10))\n",
    "    ax.set(xlabel = x_axis, ylabel = \"Average Rating (out of 5)\", title = title_s)\n",
    "    ax.set_xticklabels(ax.get_xticklabels(), rotation=90)"
   ]
  },
  {
   "cell_type": "code",
   "execution_count": 124,
   "metadata": {},
   "outputs": [
    {
     "data": {
      "image/png": "[encoded data removed]",
      "text/plain": [
       "<Figure size 432x288 with 1 Axes>"
      ]
     },
     "metadata": {},
     "output_type": "display_data"
    }
   ],
   "source": [
    "sns_barplot('Bean_Type', 'Rating_Float', df_bean_type, 'Bean Type or Blend','The Ten Highest Rated Cacao Beans and Blends')"
   ]
  },
  {
   "cell_type": "markdown",
   "metadata": {},
   "source": [
    "See above for the top 10 highest rated bean types from the dataset."
   ]
  },
  {
   "cell_type": "code",
   "execution_count": 125,
   "metadata": {},
   "outputs": [
    {
     "data": {
      "image/png": "[encoded data removed]",
      "text/plain": [
       "<Figure size 432x288 with 1 Axes>"
      ]
     },
     "metadata": {},
     "output_type": "display_data"
    }
   ],
   "source": [
    "sns_barplot('Company_Location', 'Rating_Float', df_comp, 'Company Location', 'The Top 10 Highest Expert Rated Chocolate Hubs Worldwide')"
   ]
  },
  {
   "cell_type": "markdown",
   "metadata": {},
   "source": [
    "30% of the top 10 highest rated chocolate hubs are in South/Central America, with the best rated chocolate in Chile. The best chocolate bar in the world is from an Italian chocolatier, but interestingly, Italy did not make the list of the top 10 best chocolate hubs per chart above."
   ]
  },
  {
   "cell_type": "markdown",
   "metadata": {},
   "source": [
    "# 5) Modeling"
   ]
  },
  {
   "cell_type": "markdown",
   "metadata": {},
   "source": [
    "**What is the linear model for this data, with Rating as the output (y)? What can we determine from the linear model?**"
   ]
  },
  {
   "cell_type": "code",
   "execution_count": 203,
   "metadata": {},
   "outputs": [],
   "source": [
    "#We cleaned the data in DATA PREPARATION section and established X and y.  Here is the linear model.\n",
    "\n",
    "X_train, X_test, y_train, y_test = train_test_split(X,y,test_size=.30, random_state=42)\n",
    "\n",
    "lm_model = LinearRegression(normalize=True) #Instantiate\n",
    "lm_model.fit(X_train, y_train)\n",
    "\n",
    "#Predict using model\n",
    "y_test_preds = lm_model.predict(X_test)\n",
    "y_train_preds = lm_model.predict(X_train)\n",
    "\n",
    "#Score using model\n",
    "test_score = r2_score(y_test, y_test_preds)\n",
    "train_score = r2_score(y_train, y_train_preds)"
   ]
  },
  {
   "cell_type": "code",
   "execution_count": 204,
   "metadata": {},
   "outputs": [
    {
     "data": {
      "text/plain": [
       "-4027900328.2613406"
      ]
     },
     "execution_count": 204,
     "metadata": {},
     "output_type": "execute_result"
    }
   ],
   "source": [
    "test_score"
   ]
  },
  {
   "cell_type": "code",
   "execution_count": 205,
   "metadata": {},
   "outputs": [
    {
     "data": {
      "text/plain": [
       "0.0829156989884321"
      ]
     },
     "execution_count": 205,
     "metadata": {},
     "output_type": "execute_result"
    }
   ],
   "source": [
    "train_score"
   ]
  },
  {
   "cell_type": "markdown",
   "metadata": {},
   "source": [
    "# 6) Evaluation"
   ]
  },
  {
   "cell_type": "code",
   "execution_count": 193,
   "metadata": {},
   "outputs": [],
   "source": [
    "#Model Evaluation and Feature Review:\n",
    "\n"
   ]
  },
  {
   "cell_type": "markdown",
   "metadata": {},
   "source": [
    "Limitations of Data and Further Questions:\n",
    "\n",
    "_1) Some of these ratings are old.  For example, the Amedei Toscano Black rating took place in 2006._\n",
    "\n",
    "\n",
    "_2)_"
   ]
  },
  {
   "cell_type": "code",
   "execution_count": 213,
   "metadata": {},
   "outputs": [
    {
     "data": {
      "text/html": [
       "<div>\n",
       "<style scoped>\n",
       "    .dataframe tbody tr th:only-of-type {\n",
       "        vertical-align: middle;\n",
       "    }\n",
       "\n",
       "    .dataframe tbody tr th {\n",
       "        vertical-align: top;\n",
       "    }\n",
       "\n",
       "    .dataframe thead th {\n",
       "        text-align: right;\n",
       "    }\n",
       "</style>\n",
       "<table border=\"1\" class=\"dataframe\">\n",
       "  <thead>\n",
       "    <tr style=\"text-align: right;\">\n",
       "      <th></th>\n",
       "      <th>est_int</th>\n",
       "      <th>coefs</th>\n",
       "      <th>absolute_coefs</th>\n",
       "    </tr>\n",
       "  </thead>\n",
       "  <tbody>\n",
       "    <tr>\n",
       "      <th>20</th>\n",
       "      <td>Company_Location_Ghana</td>\n",
       "      <td>-691623.625000</td>\n",
       "      <td>691623.625000</td>\n",
       "    </tr>\n",
       "    <tr>\n",
       "      <th>26</th>\n",
       "      <td>Company_Location_India</td>\n",
       "      <td>-0.913752</td>\n",
       "      <td>0.913752</td>\n",
       "    </tr>\n",
       "    <tr>\n",
       "      <th>43</th>\n",
       "      <td>Company_Location_Puerto Rico</td>\n",
       "      <td>-0.823390</td>\n",
       "      <td>0.823390</td>\n",
       "    </tr>\n",
       "    <tr>\n",
       "      <th>42</th>\n",
       "      <td>Company_Location_Portugal</td>\n",
       "      <td>-0.800445</td>\n",
       "      <td>0.800445</td>\n",
       "    </tr>\n",
       "    <tr>\n",
       "      <th>48</th>\n",
       "      <td>Company_Location_South Africa</td>\n",
       "      <td>-0.792743</td>\n",
       "      <td>0.792743</td>\n",
       "    </tr>\n",
       "    <tr>\n",
       "      <th>34</th>\n",
       "      <td>Company_Location_Mexico</td>\n",
       "      <td>-0.784912</td>\n",
       "      <td>0.784912</td>\n",
       "    </tr>\n",
       "    <tr>\n",
       "      <th>37</th>\n",
       "      <td>Company_Location_Niacragua</td>\n",
       "      <td>-0.780816</td>\n",
       "      <td>0.780816</td>\n",
       "    </tr>\n",
       "    <tr>\n",
       "      <th>59</th>\n",
       "      <td>Company_Location_Wales</td>\n",
       "      <td>-0.780124</td>\n",
       "      <td>0.780124</td>\n",
       "    </tr>\n",
       "    <tr>\n",
       "      <th>21</th>\n",
       "      <td>Company_Location_Grenada</td>\n",
       "      <td>-0.664072</td>\n",
       "      <td>0.664072</td>\n",
       "    </tr>\n",
       "    <tr>\n",
       "      <th>11</th>\n",
       "      <td>Company_Location_Czech Republic</td>\n",
       "      <td>-0.663040</td>\n",
       "      <td>0.663040</td>\n",
       "    </tr>\n",
       "    <tr>\n",
       "      <th>15</th>\n",
       "      <td>Company_Location_Eucador</td>\n",
       "      <td>-0.575582</td>\n",
       "      <td>0.575582</td>\n",
       "    </tr>\n",
       "    <tr>\n",
       "      <th>27</th>\n",
       "      <td>Company_Location_Ireland</td>\n",
       "      <td>-0.552366</td>\n",
       "      <td>0.552366</td>\n",
       "    </tr>\n",
       "    <tr>\n",
       "      <th>39</th>\n",
       "      <td>Company_Location_Peru</td>\n",
       "      <td>-0.502793</td>\n",
       "      <td>0.502793</td>\n",
       "    </tr>\n",
       "    <tr>\n",
       "      <th>55</th>\n",
       "      <td>Company_Location_U.K.</td>\n",
       "      <td>-0.463059</td>\n",
       "      <td>0.463059</td>\n",
       "    </tr>\n",
       "    <tr>\n",
       "      <th>45</th>\n",
       "      <td>Company_Location_Sao Tome</td>\n",
       "      <td>-0.451630</td>\n",
       "      <td>0.451630</td>\n",
       "    </tr>\n",
       "    <tr>\n",
       "      <th>30</th>\n",
       "      <td>Company_Location_Japan</td>\n",
       "      <td>-0.431205</td>\n",
       "      <td>0.431205</td>\n",
       "    </tr>\n",
       "    <tr>\n",
       "      <th>53</th>\n",
       "      <td>Company_Location_Sweden</td>\n",
       "      <td>-0.425949</td>\n",
       "      <td>0.425949</td>\n",
       "    </tr>\n",
       "    <tr>\n",
       "      <th>38</th>\n",
       "      <td>Company_Location_Nicaragua</td>\n",
       "      <td>-0.425535</td>\n",
       "      <td>0.425535</td>\n",
       "    </tr>\n",
       "    <tr>\n",
       "      <th>14</th>\n",
       "      <td>Company_Location_Ecuador</td>\n",
       "      <td>-0.425030</td>\n",
       "      <td>0.425030</td>\n",
       "    </tr>\n",
       "    <tr>\n",
       "      <th>9</th>\n",
       "      <td>Company_Location_Colombia</td>\n",
       "      <td>-0.369443</td>\n",
       "      <td>0.369443</td>\n",
       "    </tr>\n",
       "  </tbody>\n",
       "</table>\n",
       "</div>"
      ],
      "text/plain": [
       "                            est_int          coefs  absolute_coefs\n",
       "20           Company_Location_Ghana -691623.625000   691623.625000\n",
       "26           Company_Location_India      -0.913752        0.913752\n",
       "43     Company_Location_Puerto Rico      -0.823390        0.823390\n",
       "42        Company_Location_Portugal      -0.800445        0.800445\n",
       "48    Company_Location_South Africa      -0.792743        0.792743\n",
       "34          Company_Location_Mexico      -0.784912        0.784912\n",
       "37       Company_Location_Niacragua      -0.780816        0.780816\n",
       "59           Company_Location_Wales      -0.780124        0.780124\n",
       "21         Company_Location_Grenada      -0.664072        0.664072\n",
       "11  Company_Location_Czech Republic      -0.663040        0.663040\n",
       "15         Company_Location_Eucador      -0.575582        0.575582\n",
       "27         Company_Location_Ireland      -0.552366        0.552366\n",
       "39            Company_Location_Peru      -0.502793        0.502793\n",
       "55            Company_Location_U.K.      -0.463059        0.463059\n",
       "45        Company_Location_Sao Tome      -0.451630        0.451630\n",
       "30           Company_Location_Japan      -0.431205        0.431205\n",
       "53          Company_Location_Sweden      -0.425949        0.425949\n",
       "38       Company_Location_Nicaragua      -0.425535        0.425535\n",
       "14         Company_Location_Ecuador      -0.425030        0.425030\n",
       "9         Company_Location_Colombia      -0.369443        0.369443"
      ]
     },
     "execution_count": 213,
     "metadata": {},
     "output_type": "execute_result"
    }
   ],
   "source": [
    "def coef_sig(coefficients, X_train):\n",
    "    '''\n",
    "    INPUT:\n",
    "    coefficients - linear model coefficients defined above.\n",
    "    X_train - the training data, so the column names can be used\n",
    "    OUTPUT:\n",
    "    coefs_df - a dataframe holding the coefficient, estimate, and abs(estimate)\n",
    "    \n",
    "    Provides a dataframe that can be used to understand the most influential coefficients\n",
    "    in a linear model by providing the coefficient estimates along with the name of the \n",
    "    variable attached to the coefficient.\n",
    "    '''\n",
    "    coefs_df = pd.DataFrame()\n",
    "    coefs_df['est_int'] = X_train.columns\n",
    "    coefs_df['coefs'] = lm_model.coef_\n",
    "    coefs_df['absolute_coefs'] = np.abs(lm_model.coef_)\n",
    "    coefs_df = coefs_df.sort_values('absolute_coefs', ascending=False)\n",
    "    return coefs_df\n",
    "\n",
    "#Use the function\n",
    "coef_df = coef_sig(lm_model.coef_, X_train)\n",
    "\n",
    "#A quick look at the top results\n",
    "coef_df.head(20)"
   ]
  },
  {
   "cell_type": "code",
   "execution_count": null,
   "metadata": {},
   "outputs": [],
   "source": []
  },
  {
   "cell_type": "code",
   "execution_count": null,
   "metadata": {},
   "outputs": [],
   "source": []
  },
  {
   "cell_type": "code",
   "execution_count": null,
   "metadata": {},
   "outputs": [],
   "source": []
  }
 ],
 "metadata": {
  "kernelspec": {
   "display_name": "Python 3",
   "language": "python",
   "name": "python3"
  },
  "language_info": {
   "codemirror_mode": {
    "name": "ipython",
    "version": 3
   },
   "file_extension": ".py",
   "mimetype": "text/x-python",
   "name": "python",
   "nbconvert_exporter": "python",
   "pygments_lexer": "ipython3",
   "version": "3.7.6"
  }
 },
 "nbformat": 4,
 "nbformat_minor": 4
}
